{
 "cells": [
  {
   "cell_type": "code",
   "execution_count": 318,
   "id": "89438deb",
   "metadata": {},
   "outputs": [],
   "source": [
    "#!pip install sqlalchemy"
   ]
  },
  {
   "cell_type": "code",
   "execution_count": 27,
   "id": "2051b303",
   "metadata": {},
   "outputs": [],
   "source": [
    "# Imported libraries\n",
    "import numpy as np\n",
    "import pandas as pd\n",
    "import matplotlib.pyplot as plt\n",
    "import seaborn as sns\n",
    "import requests\n",
    "from datetime import datetime, date\n",
    "from dateutil.relativedelta import relativedelta\n",
    "import psycopg2"
   ]
  },
  {
   "cell_type": "markdown",
   "id": "5ef89fa6",
   "metadata": {},
   "source": [
    "# Database\n",
    "\n",
    "- https://www.postgresqltutorial.com/postgresql-python/connect/\n",
    "- https://www.postgresqltutorial.com/postgresql-python/insert/"
   ]
  },
  {
   "cell_type": "code",
   "execution_count": 28,
   "id": "569a65ea",
   "metadata": {},
   "outputs": [],
   "source": [
    "def insert_df(df,table):\n",
    "    \"\"\" Connect to the PostgreSQL database server \"\"\"\n",
    "    conn = None\n",
    "    try:\n",
    "        # read connection parameters\n",
    "        #params = config()\n",
    "\n",
    "        # connect to the PostgreSQL server\n",
    "        print('Connecting to the PostgreSQL database...')\n",
    "        conn = psycopg2.connect(host=\"<database host>\",\n",
    "                                database=\"<database name>\",\n",
    "                                user=\"<database username>\",\n",
    "                                password=\"<username password>\")\n",
    "\n",
    "        # create a cursor\n",
    "        cur = conn.cursor()\n",
    "        \n",
    "        # select the columns\n",
    "        cols = ','.join(list(df.columns))        \n",
    "        \n",
    "        # separate the insert_values\n",
    "        insert_values = [tuple(x) for x in df.to_numpy()]        \n",
    "        \n",
    "        # create the query\n",
    "        sql = \"INSERT INTO \"+table+\"(\"+cols+\") VALUES\" +str(insert_values)[1:-1]        \n",
    "        \n",
    "        # execute a statement\n",
    "        print('Inserting values...')\n",
    "        cur.execute(sql,vars=None)        \n",
    "\n",
    "        # commit the changes to the database\n",
    "        conn.commit()\n",
    "       \n",
    "        # close communication with the database\n",
    "        cur.close()\n",
    "        return conn\n",
    "    except (Exception, psycopg2.DatabaseError) as error:\n",
    "        print(error)\n",
    "    finally:\n",
    "        if conn is not None:\n",
    "            conn.close()\n",
    "            print('Database connection closed.')"
   ]
  },
  {
   "cell_type": "markdown",
   "id": "5aaa9a58",
   "metadata": {},
   "source": [
    "# URI Arguments"
   ]
  },
  {
   "cell_type": "markdown",
   "id": "a93c242c",
   "metadata": {},
   "source": [
    "Fitbit OAuth 2.0 Tutorial - https://dev.fitbit.com/build/reference/web-api/troubleshooting-guide/oauth2-tutorial/"
   ]
  },
  {
   "cell_type": "code",
   "execution_count": 29,
   "id": "f23bd34f",
   "metadata": {},
   "outputs": [],
   "source": [
    "# Auth token\n",
    "token = '<insert your token here>'\n",
    "\n",
    "#Header\n",
    "headers={'Authorization':'Bearer ' + token}"
   ]
  },
  {
   "cell_type": "markdown",
   "id": "0c3da5d5",
   "metadata": {},
   "source": [
    "# Sleep\n",
    "\n",
    "Get Sleep Log List - https://dev.fitbit.com/build/reference/web-api/sleep/get-sleep-log-list/"
   ]
  },
  {
   "cell_type": "code",
   "execution_count": 30,
   "id": "1ed1e72f",
   "metadata": {},
   "outputs": [],
   "source": [
    "# get today's date\n",
    "today = str(date.today())"
   ]
  },
  {
   "cell_type": "code",
   "execution_count": 31,
   "id": "514b9541",
   "metadata": {},
   "outputs": [],
   "source": [
    "# create the final dataframe\n",
    "sleep_df = pd.DataFrame()\n",
    "\n",
    "# GET steps url\n",
    "url = 'https://api.fitbit.com/1.2/user/-/sleep/list.json?beforeDate='+today+'&sort=desc&offset=0&limit=100'\n",
    "\n",
    "# request the url\n",
    "sleep_r = requests.get(url,headers=headers)\n",
    "\n",
    "\n",
    "if sleep_r.ok:\n",
    "    # create the dataframe with only the necessary columns\n",
    "    sleep_r = sleep_r.json()\n",
    "    sleep_df = pd.json_normalize(sleep_r['sleep'])[['dateOfSleep', 'startTime', 'endTime', 'duration', 'efficiency',\n",
    "                                                    'isMainSleep', 'minutesAfterWakeup','minutesAsleep', 'minutesAwake', \n",
    "                                                    'minutesToFallAsleep','timeInBed','levels.summary.deep.minutes',\n",
    "                                                    'levels.summary.light.minutes','levels.summary.rem.minutes']]\n",
    "    \n",
    "    # iterate through the pages\n",
    "    while sleep_r['pagination']['next']:     \n",
    "        \n",
    "        \n",
    "        # request the new url\n",
    "        sleep_r = requests.get(sleep_r['pagination']['next'],headers=headers).json()\n",
    "\n",
    "        # create a new datafram with the necessary columns\n",
    "        sleep_df_temp = pd.json_normalize(sleep_r['sleep'])[['dateOfSleep', 'startTime', 'endTime', 'duration', 'efficiency','isMainSleep', \n",
    "                                                             'minutesAfterWakeup','minutesAsleep', 'minutesAwake', \n",
    "                                                             'minutesToFallAsleep','timeInBed','levels.summary.deep.minutes',\n",
    "                                                             'levels.summary.light.minutes','levels.summary.rem.minutes']]\n",
    "        # concatenate the two dataframes\n",
    "        sleep_df = pd.concat([sleep_df,sleep_df_temp],axis=0,ignore_index=True)\n",
    "        \n",
    "\n",
    "        # destroy the temp dataframe\n",
    "        del sleep_df_temp  \n",
    "else: print(f'Error processing request. {sleep_r.status_code} - {sleep_r.reason}')    "
   ]
  },
  {
   "cell_type": "code",
   "execution_count": 32,
   "id": "ff622882",
   "metadata": {},
   "outputs": [],
   "source": [
    "# rename the dataframe columns to match the table columns\n",
    "sleep_df = sleep_df.rename(columns={'dateOfSleep':'date_of_sleep', 'startTime':'start_time', 'endTime':'end_time',\n",
    "       'isMainSleep':'is_main_sleep', 'minutesAfterWakeup':'minutes_after_wakeup', 'minutesAsleep':'minutes_asleep', \n",
    "                                    'minutesAwake':'minutes_awake','minutesToFallAsleep':'minutes_to_fall_asleep', \n",
    "                                    'timeInBed':'time_in_bed','levels.summary.deep.minutes':'deep_sleep',\n",
    "                                    'levels.summary.light.minutes':'light_sleep','levels.summary.rem.minutes':'rem_sleep'})\n"
   ]
  },
  {
   "cell_type": "code",
   "execution_count": 33,
   "id": "8a20d280",
   "metadata": {},
   "outputs": [],
   "source": [
    "# only consider main sleep rowsvvvvvvvvvvvvvv\n",
    "sleep_df = sleep_df[sleep_df['is_main_sleep']==True]"
   ]
  },
  {
   "cell_type": "code",
   "execution_count": 34,
   "id": "3d3a025f",
   "metadata": {},
   "outputs": [],
   "source": [
    "# drop rows with null values\n",
    "sleep_df = sleep_df.dropna(axis=0)"
   ]
  },
  {
   "cell_type": "code",
   "execution_count": 35,
   "id": "5e1a6b17",
   "metadata": {},
   "outputs": [],
   "source": [
    "# convert duration to minutes (is in miliseconds)\n",
    "sleep_df.loc[:,'duration'] = sleep_df['duration']/(1000*60)"
   ]
  },
  {
   "cell_type": "markdown",
   "id": "6ec1a8ff",
   "metadata": {},
   "source": [
    "## Detecting outliers\n",
    "- Using https://towardsdatascience.com/ways-to-detect-and-remove-the-outliers-404d16608dba"
   ]
  },
  {
   "cell_type": "code",
   "execution_count": 36,
   "id": "c31e3c24",
   "metadata": {},
   "outputs": [
    {
     "data": {
      "text/plain": [
       "count    687.000000\n",
       "mean     437.697234\n",
       "std       73.934975\n",
       "min      180.000000\n",
       "25%      395.000000\n",
       "50%      444.000000\n",
       "75%      482.500000\n",
       "max      675.000000\n",
       "Name: duration, dtype: float64"
      ]
     },
     "execution_count": 36,
     "metadata": {},
     "output_type": "execute_result"
    }
   ],
   "source": [
    "# check stats\n",
    "sleep_df['duration'].describe()"
   ]
  },
  {
   "cell_type": "code",
   "execution_count": 38,
   "id": "390d6558",
   "metadata": {},
   "outputs": [
    {
     "data": {
      "image/png": "[encoded data removed]",
      "text/plain": [
       "<Figure size 500x300 with 1 Axes>"
      ]
     },
     "metadata": {},
     "output_type": "display_data"
    }
   ],
   "source": [
    "# set the style\n",
    "sns.set(style='ticks',palette=\"pastel\")\n",
    "\n",
    "# plot the distribtion of duration\n",
    "plt.figure(figsize=(5,3),dpi=100)\n",
    "sns.histplot(sleep_df['duration'],bins=10,kde=True);"
   ]
  },
  {
   "cell_type": "code",
   "execution_count": 39,
   "id": "b73961e3",
   "metadata": {},
   "outputs": [
    {
     "data": {
      "image/png": "[encoded data removed]",
      "text/plain": [
       "<Figure size 640x480 with 1 Axes>"
      ]
     },
     "metadata": {},
     "output_type": "display_data"
    }
   ],
   "source": [
    "# boxplot\n",
    "sns.boxplot(x=sleep_df['duration']);"
   ]
  },
  {
   "cell_type": "code",
   "execution_count": 40,
   "id": "6f020ae3",
   "metadata": {},
   "outputs": [
    {
     "name": "stdout",
     "output_type": "stream",
     "text": [
      "Lower limit: 263.75\n",
      "Upper limit: 613.75\n"
     ]
    }
   ],
   "source": [
    "# Using IQR\n",
    "q75,q25 = np.percentile(sleep_df['duration'],[75,25])\n",
    "iqr = q75 - q25\n",
    "lower_limit = q25 - 1.5*iqr\n",
    "upper_limit = q75 + 1.5*iqr\n",
    "print(f'Lower limit: {lower_limit}')\n",
    "print(f'Upper limit: {upper_limit}')"
   ]
  },
  {
   "cell_type": "code",
   "execution_count": 41,
   "id": "f215e405",
   "metadata": {},
   "outputs": [],
   "source": [
    "# select the index\n",
    "drop_index = sleep_df[(sleep_df['duration']<lower_limit)|(sleep_df['duration']>upper_limit)].index\n",
    "\n",
    "# drop the outliers\n",
    "sleep_df = sleep_df.drop(drop_index,axis=0)"
   ]
  },
  {
   "cell_type": "code",
   "execution_count": 43,
   "id": "bee6d0dc",
   "metadata": {},
   "outputs": [
    {
     "data": {
      "image/png": "[encoded data removed]",
      "text/plain": [
       "<Figure size 640x480 with 1 Axes>"
      ]
     },
     "metadata": {},
     "output_type": "display_data"
    }
   ],
   "source": [
    "# boxplot\n",
    "sns.boxplot(x=sleep_df['duration']);"
   ]
  },
  {
   "cell_type": "code",
   "execution_count": 949,
   "id": "0eb89aa5",
   "metadata": {},
   "outputs": [
    {
     "name": "stdout",
     "output_type": "stream",
     "text": [
      "Connecting to the PostgreSQL database...\n",
      "Inserting values...\n",
      "Database connection closed.\n"
     ]
    },
    {
     "data": {
      "text/plain": [
       "<connection object at 0x000002670B75ABF0; dsn: 'user=postgres password=xxx dbname=fitbit_api host=localhost', closed: 1>"
      ]
     },
     "execution_count": 949,
     "metadata": {},
     "output_type": "execute_result"
    }
   ],
   "source": [
    "# insert the dataframe into the table\n",
    "insert_df(sleep_df,'sleeps')"
   ]
  },
  {
   "cell_type": "markdown",
   "id": "962f102a",
   "metadata": {},
   "source": [
    "# Heart Rate\n",
    "- Get your heart rate https://dev.fitbit.com/build/reference/web-api/heartrate-timeseries/\n",
    "- Get Heart Rate Time Series by Date Range https://dev.fitbit.com/build/reference/web-api/heartrate-timeseries/get-heartrate-timeseries-by-date-range/\n",
    "\n"
   ]
  },
  {
   "cell_type": "code",
   "execution_count": 447,
   "id": "b869c6b4",
   "metadata": {},
   "outputs": [],
   "source": [
    "# create a datelist with the dates in the sleep_df\n",
    "datelist = pd.to_datetime(sleep_df['date_of_sleep'])\n",
    "#datelist[datelist<='2022-10-08']"
   ]
  },
  {
   "cell_type": "markdown",
   "id": "0a8c94dc",
   "metadata": {},
   "source": [
    "The API accepts for the enddate a maximun of 100 days\n",
    "\n",
    "- https://renanmf.com/subtracting-years-from-a-date-in-python/"
   ]
  },
  {
   "cell_type": "code",
   "execution_count": 183,
   "id": "c398fcad",
   "metadata": {},
   "outputs": [],
   "source": [
    "# initial date\n",
    "initial_date = today\n",
    "\n",
    "# empty dataframe\n",
    "hr_df = pd.DataFrame()\n",
    "\n",
    "# get information for the past 3 years\n",
    "for year in range(1,4):    \n",
    "    \n",
    "    # get the previous date\n",
    "    previous_date = str(date.today() - relativedelta(years=year))    \n",
    "    \n",
    "    # url with the date ranges\n",
    "    url = 'https://api.fitbit.com/1/user/-/activities/heart/date/'+previous_date+'/'+initial_date+'.json'        \n",
    "        \n",
    "    # request the url\n",
    "    hr_r = requests.get(url,headers=headers)\n",
    "    \n",
    "    # check if the request went through\n",
    "    if hr_r.ok:\n",
    "        hr_df2 = pd.json_normalize(hr_r.json()['activities-heart']) # create the dataframe\n",
    "        if len(hr_df)>0:\n",
    "            hr_df = pd.concat([hr_df,hr_df2],axis=0)\n",
    "        else: hr_df = hr_df2.copy()\n",
    "    else: print(f'Error processing request. {hr_r.status_code} - {hr_r.reason}')\n",
    "    \n",
    "    # set the new initial date\n",
    "    initial_date = str(date.today() - relativedelta(days=1,years=year))    "
   ]
  },
  {
   "cell_type": "code",
   "execution_count": 562,
   "id": "ffc9f2ea",
   "metadata": {},
   "outputs": [],
   "source": [
    "# select the necessary columns\n",
    "hr_df = hr_df[['dateTime','value.restingHeartRate']]\n",
    "# rename the column to match the table in the databse\n",
    "hr_df = hr_df.rename(columns={'dateTime':'date_time','value.restingHeartRate':'resting_heart_rate'})"
   ]
  },
  {
   "cell_type": "code",
   "execution_count": 564,
   "id": "640c0129",
   "metadata": {},
   "outputs": [],
   "source": [
    "# fill null values of restig_heart_rate with 0\n",
    "hr_df['resting_heart_rate'] = hr_df['resting_heart_rate'].fillna(0)"
   ]
  },
  {
   "cell_type": "code",
   "execution_count": 565,
   "id": "ace10b38",
   "metadata": {},
   "outputs": [
    {
     "name": "stdout",
     "output_type": "stream",
     "text": [
      "Connecting to the PostgreSQL database...\n",
      "Inserting values...\n",
      "Database connection closed.\n"
     ]
    },
    {
     "data": {
      "text/plain": [
       "<connection object at 0x0000026704F277B0; dsn: 'user=postgres password=xxx dbname=fitbit_api host=localhost', closed: 1>"
      ]
     },
     "execution_count": 565,
     "metadata": {},
     "output_type": "execute_result"
    }
   ],
   "source": [
    "# insert the df into the database\n",
    "insert_df(hr_df,'heart_rates')"
   ]
  },
  {
   "cell_type": "markdown",
   "id": "7b02e45e",
   "metadata": {},
   "source": [
    "# Steps\n",
    "\n",
    "- Get Activity Time Series by Date - https://dev.fitbit.com/build/reference/web-api/activity-timeseries/get-activity-timeseries-by-date/\n",
    "- Get Activity Time Series by Date Range - https://dev.fitbit.com/build/reference/web-api/activity-timeseries/get-activity-timeseries-by-date-range/"
   ]
  },
  {
   "cell_type": "code",
   "execution_count": 185,
   "id": "4fff17fb",
   "metadata": {},
   "outputs": [],
   "source": [
    "# initial date\n",
    "initial_date = today\n",
    "\n",
    "# define the final dataset\n",
    "steps_df = pd.DataFrame()\n",
    "\n",
    "# get data for the last 3 years\n",
    "for year in range(1,4):\n",
    "    \n",
    "    # previous year\n",
    "    previous_date = str(date.today() - relativedelta(years=year))    \n",
    "    \n",
    "    # build the url\n",
    "    url = 'https://api.fitbit.com/1/user/-/activities/steps/date/'+previous_date+'/'+initial_date+'.json'    \n",
    "    \n",
    "    # request the url\n",
    "    steps_request = requests.get(url,headers=headers)\n",
    "    \n",
    "    # check if the request went through\n",
    "    if steps_request.ok:\n",
    "        \n",
    "        # create the temporary dataframe\n",
    "        steps_df_temp = pd.json_normalize(steps_request.json()['activities-steps'])\n",
    "        \n",
    "        if len(steps_df)>0:\n",
    "            # concatenate the two dataframes\n",
    "            steps_df = pd.concat([steps_df,steps_df_temp],axis=0)\n",
    "        else:\n",
    "            # copy the temp datafram into the final\n",
    "            steps_df = steps_df_temp.copy()\n",
    "        \n",
    "        # clean temp dataframe\n",
    "        del steps_df_temp        \n",
    "        \n",
    "    else:\n",
    "        # problems with the request\n",
    "        print(f'Error processing request. {steps_request.status_code} - {steps_request.reason}')\n",
    "    \n",
    "    # set the new initial date\n",
    "    initial_date = str(date.today() - relativedelta(days=1,years=year)) \n",
    "    "
   ]
  },
  {
   "cell_type": "code",
   "execution_count": 615,
   "id": "f12c457a",
   "metadata": {},
   "outputs": [
    {
     "data": {
      "text/plain": [
       "1096"
      ]
     },
     "execution_count": 615,
     "metadata": {},
     "output_type": "execute_result"
    }
   ],
   "source": [
    "# rename the columns to match the table in the database\n",
    "steps_df = steps_df.rename(columns={'dateTime':'date_time','value':'steps'})"
   ]
  },
  {
   "cell_type": "code",
   "execution_count": 617,
   "id": "6f1ec8f9",
   "metadata": {},
   "outputs": [
    {
     "name": "stdout",
     "output_type": "stream",
     "text": [
      "Connecting to the PostgreSQL database...\n",
      "Inserting values...\n",
      "Database connection closed.\n"
     ]
    },
    {
     "data": {
      "text/plain": [
       "<connection object at 0x0000026704F27E10; dsn: 'user=postgres password=xxx dbname=fitbit_api host=localhost', closed: 1>"
      ]
     },
     "execution_count": 617,
     "metadata": {},
     "output_type": "execute_result"
    }
   ],
   "source": [
    "# insert the dataframe into the database\n",
    "insert_df(steps_df,'steps')"
   ]
  },
  {
   "cell_type": "markdown",
   "id": "2f4fe5eb",
   "metadata": {},
   "source": [
    "# Activities\n",
    "\n",
    "Get Daily Activity Summary - https://dev.fitbit.com/build/reference/web-api/activity/get-daily-activity-summary/"
   ]
  },
  {
   "cell_type": "code",
   "execution_count": 191,
   "id": "a97634be",
   "metadata": {},
   "outputs": [],
   "source": [
    "# define final dataframe\n",
    "activities_df = pd.DataFrame() #detail activities\n",
    "summary_df = pd.DataFrame() # summary\n",
    "\n",
    "\n",
    "# iterate through the datelist\n",
    "# dates processed\n",
    "# (datelist>='2022-09-01')&(datelist<'2023-01-01')\n",
    "# (datelist>='2022-06-17')&(datelist<'2022-09-01')\n",
    "# (datelist>='2022-03-01')&(datelist<'2022-06-17')\n",
    "# (datelist>='2022-01-01')&(datelist<'2022-03-01')\n",
    "# (datelist>='2021-09-01')&(datelist<'2022-01-01')\n",
    "# (datelist>='2021-06-01')&(datelist<'2021-09-01')\n",
    "# (datelist>='2021-03-01')&(datelist<'2021-06-01')\n",
    "# (datelist>='2021-01-01')&(datelist<'2021-03-01')\n",
    "\n",
    "for date_df in datelist[(datelist>='2020-09-01')&(datelist<'2020-09-30')]:\n",
    "    \n",
    "    # set the url    \n",
    "    url = 'https://api.fitbit.com/1/user/-/activities/date/'+date_df.strftime(\"%Y-%m-%d\")+'.json'    \n",
    "    \n",
    "    # request the url\n",
    "    activities_r = requests.get(url,headers=headers)\n",
    "    \n",
    "    # check if the request went through\n",
    "    if activities_r.ok:        \n",
    "        '''\n",
    "        # create the summary dataframe\n",
    "        summary_df_temp = pd.json_normalize(activities_r.json()['summary'])\n",
    "        summary_df = pd.concat([summary_df,summary_df_temp],axis=0,ignore_index=True)\n",
    "        \n",
    "        del summary_df_temp\n",
    "        '''\n",
    "        # check if the day has activiies\n",
    "        if activities_r.json()['activities']:\n",
    "            # create the temporary detail activities dataframe\n",
    "            activities_df_temp = pd.json_normalize(activities_r.json()['activities'])[['startDate','name','startTime','steps',\n",
    "                                                                            'duration','calories']]\n",
    "            # create the temporary summary dataframe\n",
    "            summary_df_temp = pd.json_normalize(summary_r.json()['summary'])\n",
    "            \n",
    "            # add the columns date of activity \n",
    "            summary_df_temp.insert(0,'date_activity',date_df.strftime(\"%Y-%m-%d\"))\n",
    "\n",
    "            # check if the final dataframe has elements\n",
    "            if len(activities_df)>0:\n",
    "\n",
    "                # concatenate the final and temp dataframes\n",
    "                activities_df = pd.concat([activities_df,activities_df_temp],axis=0,ignore_index=True)\n",
    "                summary_df = pd.concat([summary_df,summary_df_temp],axis=0,ignore_index=True)\n",
    "            else:\n",
    "\n",
    "                # final dataset is empty\n",
    "                activities_df = activities_df_temp.copy()\n",
    "                summary_df = summary_df_temp.copy()\n",
    "                \n",
    "            # destroy the temp dataframes\n",
    "            del activities_df_temp\n",
    "            del summary_df_temp\n",
    "    else:\n",
    "        # problems with the request\n",
    "        print(f'Error processing request. {activities_r.status_code} - {activities_r.reason}')\n",
    "        print(url)\n",
    "        break"
   ]
  },
  {
   "cell_type": "code",
   "execution_count": 194,
   "id": "0fb96b94",
   "metadata": {},
   "outputs": [],
   "source": [
    "# rename the columns to match the table\n",
    "activities_df = activities_df.rename(columns={'startDate':'start_date', 'startTime':'start_time'})\n",
    "summary_df = summary_df.rename(columns={'activityCalories':'activity_calories', 'caloriesBMR':'calories_bmr', \n",
    "'caloriesOut':'calories_out','marginalCalories':'marginal_calories','restingHeartRate':'resting_heart_rate',\n",
    "'sedentaryMinutes':'sedentary_minutes', 'fairlyActiveMinutes':'fairly_Active_minutes',\n",
    "                                        'lightlyActiveMinutes':'lightly_active_minutes', \n",
    "                                        'veryActiveMinutes':'very_active_minutes','activeScore':'active_score'})"
   ]
  },
  {
   "cell_type": "code",
   "execution_count": 195,
   "id": "23f4351c",
   "metadata": {},
   "outputs": [],
   "source": [
    "# drop unnecessary columns\n",
    "summary_df = summary_df.drop(columns=['distances','heartRateZones'])"
   ]
  },
  {
   "cell_type": "code",
   "execution_count": 782,
   "id": "19893a7e",
   "metadata": {},
   "outputs": [
    {
     "name": "stdout",
     "output_type": "stream",
     "text": [
      "Connecting to the PostgreSQL database...\n",
      "Inserting values...\n",
      "Database connection closed.\n"
     ]
    },
    {
     "data": {
      "text/plain": [
       "<connection object at 0x0000026707D5F8C0; dsn: 'user=postgres password=xxx dbname=fitbit_api host=localhost', closed: 1>"
      ]
     },
     "execution_count": 782,
     "metadata": {},
     "output_type": "execute_result"
    }
   ],
   "source": [
    "# insert the dataframe into the detail activities table\n",
    "insert_df(activities_df,'activities')"
   ]
  },
  {
   "cell_type": "code",
   "execution_count": null,
   "id": "c5153a38",
   "metadata": {},
   "outputs": [],
   "source": [
    "# insert the dataframe into the summary activities table\n",
    "insert_df(summary_df,'activities_summary')"
   ]
  }
 ],
 "metadata": {
  "kernelspec": {
   "display_name": "Python 3 (ipykernel)",
   "language": "python",
   "name": "python3"
  },
  "language_info": {
   "codemirror_mode": {
    "name": "ipython",
    "version": 3
   },
   "file_extension": ".py",
   "mimetype": "text/x-python",
   "name": "python",
   "nbconvert_exporter": "python",
   "pygments_lexer": "ipython3",
   "version": "3.9.13"
  }
 },
 "nbformat": 4,
 "nbformat_minor": 5
}
